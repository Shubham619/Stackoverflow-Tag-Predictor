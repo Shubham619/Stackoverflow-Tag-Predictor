{
 "cells": [
  {
   "cell_type": "markdown",
   "metadata": {},
   "source": [
    "# Stack Overflow: Tag Prediction"
   ]
  },
  {
   "cell_type": "markdown",
   "metadata": {},
   "source": [
    "# 1. Business Problem\n",
    "\n",
    "\n"
   ]
  },
  {
   "cell_type": "markdown",
   "metadata": {},
   "source": [
    "Stack Overflow is the largest, most trusted online community for developers to learn, share their programming knowledge, and build their careers.Stack Overflow is something which every programmer use one way or another. Each month, over 50 million developers come to Stack Overflow to learn, share their knowledge, and build their careers. \n",
    "It features questions and answers on a wide range of topics in computer programming. The website serves as a platform for users to ask and answer questions, and, through membership and active participation, to vote questions and answers up or down and edit questions and answers in a fashion similar to a wiki or Digg. As of April 2014 Stack Overflow has over 4,000,000 registered users, and it exceeded 10,000,000 questions in late August 2015. Based on the type of tags assigned to questions, the top eight most discussed topics on the site are: Java, JavaScript, C#, PHP, Android, jQuery, Python and HTML."
   ]
  },
  {
   "cell_type": "markdown",
   "metadata": {},
   "source": [
    "# 1.1 Problem Statemtent"
   ]
  },
  {
   "cell_type": "markdown",
   "metadata": {},
   "source": [
    "\n",
    "\n",
    "Suggest the tags based on the content that was there in the question posted on Stackoverflow.\n",
    "Source: https://www.kaggle.com/c/facebook-recruiting-iii-keyword-extraction/"
   ]
  },
  {
   "cell_type": "markdown",
   "metadata": {},
   "source": [
    "# 1.2 Source\n"
   ]
  },
  {
   "cell_type": "markdown",
   "metadata": {},
   "source": [
    "\n",
    "Data Source : https://www.kaggle.com/c/facebook-recruiting-iii-keyword-extraction/data \n",
    "  \n"
   ]
  },
  {
   "cell_type": "markdown",
   "metadata": {},
   "source": [
    "# 1.3 Real World / Business Objectives and Constraints"
   ]
  },
  {
   "cell_type": "markdown",
   "metadata": {},
   "source": [
    "\n",
    "\n",
    "Predict as many tags as possible with high precision and recall.\n",
    "Incorrect tags could impact customer experience on StackOverflow.\n",
    "No strict latency constraints."
   ]
  },
  {
   "cell_type": "markdown",
   "metadata": {},
   "source": [
    "# 2. Machine Learning problem"
   ]
  },
  {
   "cell_type": "markdown",
   "metadata": {},
   "source": [
    "\n",
    "Refer: https://www.kaggle.com/c/facebook-recruiting-iii-keyword-extraction/data \n",
    "\n",
    "All of the data is in 2 files: Train and Test.\n",
    "1. Train.csv contains 4 columns: Id,Title,Body,Tags.\n",
    "2. Test.csv contains the same columns but without the Tags, which you are to predict.\n",
    "3. Size of Train.csv - 6.75GB\n",
    "4. Size of Test.csv - 2GB\n",
    "5. Number of rows in Train.csv = 6034195\n",
    "\n",
    "The questions are randomized and contains a mix of verbose text sites as well as sites related to math and programming. The number of questions from each site may vary, and no filtering has been performed on the questions (such as closed questions).\n"
   ]
  },
  {
   "cell_type": "markdown",
   "metadata": {},
   "source": [
    "# 2.2.1 Data Field Explaination:"
   ]
  },
  {
   "cell_type": "markdown",
   "metadata": {},
   "source": [
    "\n",
    "\n",
    "Dataset contains 6,034,195 rows. The columns in the table are:\n",
    "\n",
    "Id - Unique identifier for each question\n",
    "Title - The question's title\n",
    "Body - The body of the question\n",
    "Tags - The tags associated with the question in a space-seperated format (all lowercase, should not contain tabs '\\t' or ampersands '&')"
   ]
  },
  {
   "cell_type": "markdown",
   "metadata": {},
   "source": [
    "# 2.2.2 Type of Machine Learning Problem"
   ]
  },
  {
   "cell_type": "markdown",
   "metadata": {},
   "source": [
    "\n",
    "\n",
    "\n",
    "It is a multi-label classification problem \n",
    "\n",
    "Multi-label Classification: Multilabel classification assigns to each sample a set of target labels. This can be thought as predicting properties of a data-point that are not mutually exclusive, such as topics that are relevant for a document.\n"
   ]
  },
  {
   "cell_type": "markdown",
   "metadata": {},
   "source": [
    "# 2.2.3 Performance metric"
   ]
  },
  {
   "cell_type": "markdown",
   "metadata": {},
   "source": [
    "\n",
    "\n",
    "Micro-Averaged F1-Score (Mean F Score) : The F1 score can be interpreted as a weighted average of the precision and recall, where an F1 score reaches its best value at 1 and worst score at 0. The relative contribution of precision and recall to the F1 score are equal. The formula for the F1 score is:\n",
    "\n",
    "F1 = 2 (precision recall) / (precision + recall)\n",
    "\n",
    "In the multi-class and multi-label case, this is the weighted average of the F1 score of each class. \n",
    "\n",
    "1. 'Micro f1 score': \n",
    "Calculate metrics globally by counting the total true positives, false negatives and false positives. This is a better metric when we have class imbalance. \n",
    "\n",
    "2. 'Macro f1 score': \n",
    "Calculate metrics for each label, and find their unweighted mean. This does not take label imbalance into account. \n",
    "\n",
    "\n",
    "3. Hamming loss : The Hamming loss is the fraction of labels that are incorrectly predicted. \n",
    "https://www.kaggle.com/wiki/HammingLoss "
   ]
  },
  {
   "cell_type": "markdown",
   "metadata": {},
   "source": [
    "# Importing libraries"
   ]
  },
  {
   "cell_type": "code",
   "execution_count": 2,
   "metadata": {},
   "outputs": [
    {
     "name": "stderr",
     "output_type": "stream",
     "text": [
      "\n",
      "Attaching package: 'dplyr'\n",
      "\n",
      "The following objects are masked from 'package:stats':\n",
      "\n",
      "    filter, lag\n",
      "\n",
      "The following objects are masked from 'package:base':\n",
      "\n",
      "    intersect, setdiff, setequal, union\n",
      "\n",
      "Loading required package: NLP\n",
      "Loading required package: qdapDictionaries\n",
      "Loading required package: qdapRegex\n",
      "\n",
      "Attaching package: 'qdapRegex'\n",
      "\n",
      "The following object is masked from 'package:dplyr':\n",
      "\n",
      "    explain\n",
      "\n",
      "Loading required package: qdapTools\n",
      "\n",
      "Attaching package: 'qdapTools'\n",
      "\n",
      "The following object is masked from 'package:dplyr':\n",
      "\n",
      "    id\n",
      "\n",
      "Loading required package: RColorBrewer\n",
      "\n",
      "Attaching package: 'qdap'\n",
      "\n",
      "The following objects are masked from 'package:tm':\n",
      "\n",
      "    as.DocumentTermMatrix, as.TermDocumentMatrix\n",
      "\n",
      "The following object is masked from 'package:NLP':\n",
      "\n",
      "    ngrams\n",
      "\n",
      "The following object is masked from 'package:dplyr':\n",
      "\n",
      "    %>%\n",
      "\n",
      "The following object is masked from 'package:base':\n",
      "\n",
      "    Filter\n",
      "\n",
      "-- Attaching packages --------------------------------------- tidyverse 1.2.1 --\n",
      "v ggplot2 3.1.0     v purrr   0.2.5\n",
      "v tibble  1.4.2     v stringr 1.3.1\n",
      "v tidyr   0.8.2     v forcats 0.3.0\n",
      "-- Conflicts ------------------------------------------ tidyverse_conflicts() --\n",
      "x ggplot2::%+%()       masks qdapRegex::%+%()\n",
      "x ggplot2::annotate()  masks NLP::annotate()\n",
      "x qdapRegex::explain() masks dplyr::explain()\n",
      "x dplyr::filter()      masks stats::filter()\n",
      "x qdapTools::id()      masks dplyr::id()\n",
      "x dplyr::lag()         masks stats::lag()\n",
      "\n",
      "Attaching package: 'plotly'\n",
      "\n",
      "The following object is masked from 'package:ggplot2':\n",
      "\n",
      "    last_plot\n",
      "\n",
      "The following object is masked from 'package:qdap':\n",
      "\n",
      "    %>%\n",
      "\n",
      "The following object is masked from 'package:stats':\n",
      "\n",
      "    filter\n",
      "\n",
      "The following object is masked from 'package:graphics':\n",
      "\n",
      "    layout\n",
      "\n",
      "\n",
      "Attaching package: 'tm.plugin.webmining'\n",
      "\n",
      "The following object is masked from 'package:tidyr':\n",
      "\n",
      "    extract\n",
      "\n",
      "The following object is masked from 'package:base':\n",
      "\n",
      "    parse\n",
      "\n",
      "\n",
      "Attaching package: 'textclean'\n",
      "\n",
      "The following objects are masked from 'package:qdap':\n",
      "\n",
      "    check_text, mgsub, replace_contraction, replace_number,\n",
      "    replace_ordinal, replace_symbol, strip, sub_holder\n",
      "\n",
      "Warning message:\n",
      "\"package 'leaflet' was built under R version 3.5.2\"\n",
      "Attaching package: 'leaflet'\n",
      "\n",
      "The following object is masked from 'package:qdap':\n",
      "\n",
      "    %>%\n",
      "\n"
     ]
    }
   ],
   "source": [
    "library(readr)\n",
    "library(dplyr)\n",
    "library(tm)\n",
    "library(qdap)\n",
    "library(tidyverse)\n",
    "library(tidytext)\n",
    "library(ggplot2)\n",
    "library(plotly)\n",
    "library(ngram)\n",
    "library(wordcloud2)\n",
    "library(tm.plugin.webmining)\n",
    "library(corpus)\n",
    "library(textclean)\n",
    "library(leaflet)"
   ]
  },
  {
   "cell_type": "markdown",
   "metadata": {},
   "source": [
    "# Reading Dataset"
   ]
  },
  {
   "cell_type": "code",
   "execution_count": 3,
   "metadata": {},
   "outputs": [],
   "source": [
    "\n",
    "df=read.csv(\"Train_stk.csv\",stringsAsFactors=FALSE)\n",
    "\n",
    "df=df[,-c(1,2)]\n",
    "\n"
   ]
  },
  {
   "cell_type": "code",
   "execution_count": 38,
   "metadata": {},
   "outputs": [
    {
     "data": {
      "text/plain": [
       "    Title               Body               Tags          \n",
       " Length:943582      Length:943582      Length:943582     \n",
       " Class :character   Class :character   Class :character  \n",
       " Mode  :character   Mode  :character   Mode  :character  "
      ]
     },
     "metadata": {},
     "output_type": "display_data"
    }
   ],
   "source": [
    "summary(df)"
   ]
  },
  {
   "cell_type": "code",
   "execution_count": 5,
   "metadata": {},
   "outputs": [
    {
     "name": "stdout",
     "output_type": "stream",
     "text": [
      "[1] \"Dimension of Dataframe: 1000000\" \"Dimension of Dataframe: 3\"      \n"
     ]
    }
   ],
   "source": [
    "print(paste(\"Dimension of Dataframe:\",dim(df)))"
   ]
  },
  {
   "cell_type": "code",
   "execution_count": 6,
   "metadata": {},
   "outputs": [],
   "source": [
    "\n",
    "df<-df %>% distinct()\n",
    "\n"
   ]
  },
  {
   "cell_type": "markdown",
   "metadata": {},
   "source": [
    "# Analysis of Tags"
   ]
  },
  {
   "cell_type": "code",
   "execution_count": 7,
   "metadata": {},
   "outputs": [
    {
     "name": "stdout",
     "output_type": "stream",
     "text": [
      "[1] \"Duplicated Questions: 3206\"\n",
      "[1] \"Duplicated Tags: 378591\"\n"
     ]
    }
   ],
   "source": [
    "print(paste(\"Duplicated Questions:\",length(which(duplicated(df$Title)))))\n",
    "print(paste(\"Duplicated Tags:\",length(which(duplicated(df$Tags)))))\n",
    "tags_df<-data.frame(table(df$Tags))"
   ]
  },
  {
   "cell_type": "code",
   "execution_count": 8,
   "metadata": {},
   "outputs": [
    {
     "name": "stdout",
     "output_type": "stream",
     "text": [
      "                     Var1 Freq\n",
      "1               .htaccess  248\n",
      "3  .htaccess 301-redirect    2\n",
      "7       .htaccess apache2    4\n",
      "26      .htaccess caching    2\n",
      "32      .htaccess cakephp   10\n",
      "48  .htaccess codeigniter   15\n"
     ]
    }
   ],
   "source": [
    "print(head(tags_df[tags_df$Freq>1,]))"
   ]
  },
  {
   "cell_type": "code",
   "execution_count": 9,
   "metadata": {},
   "outputs": [
    {
     "name": "stdout",
     "output_type": "stream",
     "text": [
      "[1] \"Unique tags: 34768\"\n"
     ]
    }
   ],
   "source": [
    "reviewsCorpus <- Corpus(VectorSource(df$Tags)) \n",
    "tagsDTM <- DocumentTermMatrix(reviewsCorpus)\n",
    "# convert the document term matrx to a tidytext corpus\n",
    "reviewsDTM_tidy <- tidy(tagsDTM)\n",
    "tags<-unique(reviewsDTM_tidy$term)\n",
    "print(paste(\"Unique tags:\",length(tags)))"
   ]
  },
  {
   "cell_type": "code",
   "execution_count": 10,
   "metadata": {},
   "outputs": [
    {
     "name": "stdout",
     "output_type": "stream",
     "text": [
      "[1] \"Python Tags: 29141\"\n"
     ]
    }
   ],
   "source": [
    "frq=as.data.frame(table(reviewsDTM_tidy$term))\n",
    "print(paste(\"Python Tags:\",frq[frq==\"python\",]$Freq))"
   ]
  },
  {
   "cell_type": "code",
   "execution_count": 11,
   "metadata": {},
   "outputs": [
    {
     "data": {
      "text/html": [
       "<table>\n",
       "<thead><tr><th scope=col>Var1</th><th scope=col>Freq</th></tr></thead>\n",
       "<tbody>\n",
       "\t<tr><td>.app         </td><td>11           </td></tr>\n",
       "\t<tr><td>.aspxauth    </td><td> 5           </td></tr>\n",
       "\t<tr><td>.bash-profile</td><td>29           </td></tr>\n",
       "\t<tr><td>.class-file  </td><td>12           </td></tr>\n",
       "\t<tr><td>.cs-file     </td><td> 1           </td></tr>\n",
       "\t<tr><td>.doc         </td><td> 9           </td></tr>\n",
       "</tbody>\n",
       "</table>\n"
      ],
      "text/latex": [
       "\\begin{tabular}{r|ll}\n",
       " Var1 & Freq\\\\\n",
       "\\hline\n",
       "\t .app          & 11           \\\\\n",
       "\t .aspxauth     &  5           \\\\\n",
       "\t .bash-profile & 29           \\\\\n",
       "\t .class-file   & 12           \\\\\n",
       "\t .cs-file      &  1           \\\\\n",
       "\t .doc          &  9           \\\\\n",
       "\\end{tabular}\n"
      ],
      "text/markdown": [
       "\n",
       "Var1 | Freq | \n",
       "|---|---|---|---|---|---|\n",
       "| .app          | 11            | \n",
       "| .aspxauth     |  5            | \n",
       "| .bash-profile | 29            | \n",
       "| .class-file   | 12            | \n",
       "| .cs-file      |  1            | \n",
       "| .doc          |  9            | \n",
       "\n",
       "\n"
      ],
      "text/plain": [
       "  Var1          Freq\n",
       "1 .app          11  \n",
       "2 .aspxauth      5  \n",
       "3 .bash-profile 29  \n",
       "4 .class-file   12  \n",
       "5 .cs-file       1  \n",
       "6 .doc           9  "
      ]
     },
     "metadata": {},
     "output_type": "display_data"
    }
   ],
   "source": [
    "head(frq)\n"
   ]
  },
  {
   "cell_type": "code",
   "execution_count": 12,
   "metadata": {},
   "outputs": [],
   "source": [
    "fq_t<-frq[order(frq$Freq,decreasing = TRUE),]"
   ]
  },
  {
   "cell_type": "code",
   "execution_count": 13,
   "metadata": {},
   "outputs": [
    {
     "data": {
      "image/png": "[encoded data removed]",
      "text/plain": [
       "Plot with title \"Distribution of number of times tag appeared questions\""
      ]
     },
     "metadata": {},
     "output_type": "display_data"
    }
   ],
   "source": [
    "\n",
    "plot.default(fq_t$Freq,type = \"l\",xlab = \"Tag number\",\n",
    "             ylab = \"Number of times tag appeared\",\n",
    "             main=\"Distribution of number of times tag appeared questions\")\n"
   ]
  },
  {
   "cell_type": "code",
   "execution_count": 14,
   "metadata": {},
   "outputs": [
    {
     "data": {
      "image/png": "[encoded data removed]",
      "text/plain": [
       "Plot with title \"First 10k Tags:Distribution of number of times tag appeared questions\""
      ]
     },
     "metadata": {},
     "output_type": "display_data"
    }
   ],
   "source": [
    "\n",
    "plot.default(fq_t$Freq[1:10000],type = \"l\",xlab = \"Tag number\",\n",
    "             ylab = \"Number of times tag appeared\",\n",
    "             main=\"First 10k Tags:Distribution of number of times tag appeared questions\")\n"
   ]
  },
  {
   "cell_type": "code",
   "execution_count": 15,
   "metadata": {},
   "outputs": [
    {
     "data": {
      "image/png": "[encoded data removed]",
      "text/plain": [
       "Plot with title \"First 1k Tags:Distribution of number of times tag appeared questions\""
      ]
     },
     "metadata": {},
     "output_type": "display_data"
    }
   ],
   "source": [
    "\n",
    "plot.default(fq_t$Freq[1:1000],type = \"l\",xlab = \"Tag number\",\n",
    "             ylab = \"Number of times tag appeared\",\n",
    "             main=\"First 1k Tags:Distribution of number of times tag appeared questions\")"
   ]
  },
  {
   "cell_type": "code",
   "execution_count": 16,
   "metadata": {},
   "outputs": [
    {
     "data": {
      "image/png": "[encoded data removed]",
      "text/plain": [
       "Plot with title \"First 500 Tags:Distribution of number of times tag appeared questions\""
      ]
     },
     "metadata": {},
     "output_type": "display_data"
    }
   ],
   "source": [
    "\n",
    "plot.default(fq_t$Freq[1:500],type = \"l\",xlab = \"Tag number\",\n",
    "             ylab = \"Number of times tag appeared\",\n",
    "             main=\"First 500 Tags:Distribution of number of times tag appeared questions\")\n"
   ]
  },
  {
   "cell_type": "code",
   "execution_count": 22,
   "metadata": {},
   "outputs": [
    {
     "data": {},
     "metadata": {},
     "output_type": "display_data"
    },
    {
     "data": {
      "image/png": "[encoded data removed]",
      "text/plain": [
       "plot without title"
      ]
     },
     "metadata": {},
     "output_type": "display_data"
    }
   ],
   "source": [
    "\n",
    "# Basic line plot with points\n",
    "\n",
    "fq_100<- data.frame(TagNo=1:100,Count=fq_t$Freq[1:100])\n",
    "ggplot(data=fq_100, aes(x=TagNo, y=Count, group=1)) +\n",
    "  geom_line()+\n",
    "  geom_point()"
   ]
  },
  {
   "cell_type": "code",
   "execution_count": 21,
   "metadata": {},
   "outputs": [
    {
     "data": {},
     "metadata": {},
     "output_type": "display_data"
    },
    {
     "data": {
      "image/png": "[encoded data removed]",
      "text/plain": [
       "plot without title"
      ]
     },
     "metadata": {},
     "output_type": "display_data"
    }
   ],
   "source": [
    "  fq_50<- data.frame(TagNo=1:50,Count=fq_t$Freq[1:50])\n",
    "ggplot(data=fq_50, aes(x=TagNo, y=Count, group=1)) +\n",
    "           geom_line()+\n",
    "           geom_point()"
   ]
  },
  {
   "cell_type": "code",
   "execution_count": 21,
   "metadata": {},
   "outputs": [
    {
     "data": {
      "text/html": [
       "<table>\n",
       "<thead><tr><th></th><th scope=col>Var1</th><th scope=col>Freq</th></tr></thead>\n",
       "<tbody>\n",
       "\t<tr><th scope=row>14951</th><td>java              </td><td>64770             </td></tr>\n",
       "\t<tr><th scope=row>22515</th><td>php               </td><td>61712             </td></tr>\n",
       "\t<tr><th scope=row>15025</th><td>javascript        </td><td>57722             </td></tr>\n",
       "\t<tr><th scope=row>1010</th><td>android           </td><td>50630             </td></tr>\n",
       "\t<tr><th scope=row>15396</th><td>jquery            </td><td>48180             </td></tr>\n",
       "\t<tr><th scope=row>3609</th><td>c++               </td><td>31664             </td></tr>\n",
       "\t<tr><th scope=row>24032</th><td>python            </td><td>29141             </td></tr>\n",
       "\t<tr><th scope=row>14604</th><td>iphone            </td><td>28567             </td></tr>\n",
       "\t<tr><th scope=row>1834</th><td>asp.net           </td><td>27784             </td></tr>\n",
       "\t<tr><th scope=row>19398</th><td>mysql             </td><td>26999             </td></tr>\n",
       "\t<tr><th scope=row>13153</th><td>html              </td><td>25908             </td></tr>\n",
       "\t<tr><th scope=row>19</th><td>.net              </td><td>25583             </td></tr>\n",
       "\t<tr><th scope=row>14547</th><td>ios               </td><td>21480             </td></tr>\n",
       "\t<tr><th scope=row>20746</th><td>objective-c       </td><td>21024             </td></tr>\n",
       "\t<tr><th scope=row>28301</th><td>sql               </td><td>20891             </td></tr>\n",
       "\t<tr><th scope=row>6179</th><td>css               </td><td>20343             </td></tr>\n",
       "\t<tr><th scope=row>16712</th><td>linux             </td><td>19615             </td></tr>\n",
       "\t<tr><th scope=row>25969</th><td>ruby-on-rails     </td><td>18560             </td></tr>\n",
       "\t<tr><th scope=row>33399</th><td>windows           </td><td>15094             </td></tr>\n",
       "\t<tr><th scope=row>28333</th><td>sql-server        </td><td>11889             </td></tr>\n",
       "\t<tr><th scope=row>25951</th><td>ruby              </td><td>11445             </td></tr>\n",
       "\t<tr><th scope=row>33883</th><td>wpf               </td><td>10243             </td></tr>\n",
       "\t<tr><th scope=row>34233</th><td>xml               </td><td>10095             </td></tr>\n",
       "\t<tr><th scope=row>749</th><td>ajax              </td><td> 9656             </td></tr>\n",
       "\t<tr><th scope=row>6639</th><td>database          </td><td> 9314             </td></tr>\n",
       "\t<tr><th scope=row>25026</th><td>regex             </td><td> 9212             </td></tr>\n",
       "\t<tr><th scope=row>1853</th><td>asp.net-mvc       </td><td> 9096             </td></tr>\n",
       "\t<tr><th scope=row>33405</th><td>windows-7         </td><td> 8966             </td></tr>\n",
       "\t<tr><th scope=row>34111</th><td>xcode             </td><td> 8340             </td></tr>\n",
       "\t<tr><th scope=row>7819</th><td>django            </td><td> 8215             </td></tr>\n",
       "\t<tr><th scope=row>21561</th><td>osx               </td><td> 8073             </td></tr>\n",
       "\t<tr><th scope=row>1766</th><td>arrays            </td><td> 7915             </td></tr>\n",
       "\t<tr><th scope=row>32171</th><td>vb.net            </td><td> 7304             </td></tr>\n",
       "\t<tr><th scope=row>9818</th><td>facebook          </td><td> 6965             </td></tr>\n",
       "\t<tr><th scope=row>15611</th><td>json              </td><td> 6935             </td></tr>\n",
       "\t<tr><th scope=row>8728</th><td>eclipse           </td><td> 6916             </td></tr>\n",
       "\t<tr><th scope=row>25971</th><td>ruby-on-rails-3   </td><td> 6834             </td></tr>\n",
       "\t<tr><th scope=row>31296</th><td>ubuntu            </td><td> 6433             </td></tr>\n",
       "\t<tr><th scope=row>22311</th><td>performance       </td><td> 6243             </td></tr>\n",
       "\t<tr><th scope=row>28919</th><td>string            </td><td> 5949             </td></tr>\n",
       "\t<tr><th scope=row>19857</th><td>networking        </td><td> 5905             </td></tr>\n",
       "\t<tr><th scope=row>19287</th><td>multithreading    </td><td> 5904             </td></tr>\n",
       "\t<tr><th scope=row>33594</th><td>winforms          </td><td> 5839             </td></tr>\n",
       "\t<tr><th scope=row>1856</th><td>asp.net-mvc-3     </td><td> 5476             </td></tr>\n",
       "\t<tr><th scope=row>32562</th><td>visual-studio-2010</td><td> 5456             </td></tr>\n",
       "\t<tr><th scope=row>26585</th><td>security          </td><td> 5369             </td></tr>\n",
       "\t<tr><th scope=row>2604</th><td>bash              </td><td> 5092             </td></tr>\n",
       "\t<tr><th scope=row>13753</th><td>image             </td><td> 5034             </td></tr>\n",
       "</tbody>\n",
       "</table>\n"
      ],
      "text/latex": [
       "\\begin{tabular}{r|ll}\n",
       "  & Var1 & Freq\\\\\n",
       "\\hline\n",
       "\t14951 & java               & 64770             \\\\\n",
       "\t22515 & php                & 61712             \\\\\n",
       "\t15025 & javascript         & 57722             \\\\\n",
       "\t1010 & android            & 50630             \\\\\n",
       "\t15396 & jquery             & 48180             \\\\\n",
       "\t3609 & c++                & 31664             \\\\\n",
       "\t24032 & python             & 29141             \\\\\n",
       "\t14604 & iphone             & 28567             \\\\\n",
       "\t1834 & asp.net            & 27784             \\\\\n",
       "\t19398 & mysql              & 26999             \\\\\n",
       "\t13153 & html               & 25908             \\\\\n",
       "\t19 & .net               & 25583             \\\\\n",
       "\t14547 & ios                & 21480             \\\\\n",
       "\t20746 & objective-c        & 21024             \\\\\n",
       "\t28301 & sql                & 20891             \\\\\n",
       "\t6179 & css                & 20343             \\\\\n",
       "\t16712 & linux              & 19615             \\\\\n",
       "\t25969 & ruby-on-rails      & 18560             \\\\\n",
       "\t33399 & windows            & 15094             \\\\\n",
       "\t28333 & sql-server         & 11889             \\\\\n",
       "\t25951 & ruby               & 11445             \\\\\n",
       "\t33883 & wpf                & 10243             \\\\\n",
       "\t34233 & xml                & 10095             \\\\\n",
       "\t749 & ajax               &  9656             \\\\\n",
       "\t6639 & database           &  9314             \\\\\n",
       "\t25026 & regex              &  9212             \\\\\n",
       "\t1853 & asp.net-mvc        &  9096             \\\\\n",
       "\t33405 & windows-7          &  8966             \\\\\n",
       "\t34111 & xcode              &  8340             \\\\\n",
       "\t7819 & django             &  8215             \\\\\n",
       "\t21561 & osx                &  8073             \\\\\n",
       "\t1766 & arrays             &  7915             \\\\\n",
       "\t32171 & vb.net             &  7304             \\\\\n",
       "\t9818 & facebook           &  6965             \\\\\n",
       "\t15611 & json               &  6935             \\\\\n",
       "\t8728 & eclipse            &  6916             \\\\\n",
       "\t25971 & ruby-on-rails-3    &  6834             \\\\\n",
       "\t31296 & ubuntu             &  6433             \\\\\n",
       "\t22311 & performance        &  6243             \\\\\n",
       "\t28919 & string             &  5949             \\\\\n",
       "\t19857 & networking         &  5905             \\\\\n",
       "\t19287 & multithreading     &  5904             \\\\\n",
       "\t33594 & winforms           &  5839             \\\\\n",
       "\t1856 & asp.net-mvc-3      &  5476             \\\\\n",
       "\t32562 & visual-studio-2010 &  5456             \\\\\n",
       "\t26585 & security           &  5369             \\\\\n",
       "\t2604 & bash               &  5092             \\\\\n",
       "\t13753 & image              &  5034             \\\\\n",
       "\\end{tabular}\n"
      ],
      "text/markdown": [
       "\n",
       "| <!--/--> | Var1 | Freq | \n",
       "|---|---|---|---|---|---|---|---|---|---|---|---|---|---|---|---|---|---|---|---|---|---|---|---|---|---|---|---|---|---|---|---|---|---|---|---|---|---|---|---|---|---|---|---|---|---|---|---|\n",
       "| 14951 | java               | 64770              | \n",
       "| 22515 | php                | 61712              | \n",
       "| 15025 | javascript         | 57722              | \n",
       "| 1010 | android            | 50630              | \n",
       "| 15396 | jquery             | 48180              | \n",
       "| 3609 | c++                | 31664              | \n",
       "| 24032 | python             | 29141              | \n",
       "| 14604 | iphone             | 28567              | \n",
       "| 1834 | asp.net            | 27784              | \n",
       "| 19398 | mysql              | 26999              | \n",
       "| 13153 | html               | 25908              | \n",
       "| 19 | .net               | 25583              | \n",
       "| 14547 | ios                | 21480              | \n",
       "| 20746 | objective-c        | 21024              | \n",
       "| 28301 | sql                | 20891              | \n",
       "| 6179 | css                | 20343              | \n",
       "| 16712 | linux              | 19615              | \n",
       "| 25969 | ruby-on-rails      | 18560              | \n",
       "| 33399 | windows            | 15094              | \n",
       "| 28333 | sql-server         | 11889              | \n",
       "| 25951 | ruby               | 11445              | \n",
       "| 33883 | wpf                | 10243              | \n",
       "| 34233 | xml                | 10095              | \n",
       "| 749 | ajax               |  9656              | \n",
       "| 6639 | database           |  9314              | \n",
       "| 25026 | regex              |  9212              | \n",
       "| 1853 | asp.net-mvc        |  9096              | \n",
       "| 33405 | windows-7          |  8966              | \n",
       "| 34111 | xcode              |  8340              | \n",
       "| 7819 | django             |  8215              | \n",
       "| 21561 | osx                |  8073              | \n",
       "| 1766 | arrays             |  7915              | \n",
       "| 32171 | vb.net             |  7304              | \n",
       "| 9818 | facebook           |  6965              | \n",
       "| 15611 | json               |  6935              | \n",
       "| 8728 | eclipse            |  6916              | \n",
       "| 25971 | ruby-on-rails-3    |  6834              | \n",
       "| 31296 | ubuntu             |  6433              | \n",
       "| 22311 | performance        |  6243              | \n",
       "| 28919 | string             |  5949              | \n",
       "| 19857 | networking         |  5905              | \n",
       "| 19287 | multithreading     |  5904              | \n",
       "| 33594 | winforms           |  5839              | \n",
       "| 1856 | asp.net-mvc-3      |  5476              | \n",
       "| 32562 | visual-studio-2010 |  5456              | \n",
       "| 26585 | security           |  5369              | \n",
       "| 2604 | bash               |  5092              | \n",
       "| 13753 | image              |  5034              | \n",
       "\n",
       "\n"
      ],
      "text/plain": [
       "      Var1               Freq \n",
       "14951 java               64770\n",
       "22515 php                61712\n",
       "15025 javascript         57722\n",
       "1010  android            50630\n",
       "15396 jquery             48180\n",
       "3609  c++                31664\n",
       "24032 python             29141\n",
       "14604 iphone             28567\n",
       "1834  asp.net            27784\n",
       "19398 mysql              26999\n",
       "13153 html               25908\n",
       "19    .net               25583\n",
       "14547 ios                21480\n",
       "20746 objective-c        21024\n",
       "28301 sql                20891\n",
       "6179  css                20343\n",
       "16712 linux              19615\n",
       "25969 ruby-on-rails      18560\n",
       "33399 windows            15094\n",
       "28333 sql-server         11889\n",
       "25951 ruby               11445\n",
       "33883 wpf                10243\n",
       "34233 xml                10095\n",
       "749   ajax                9656\n",
       "6639  database            9314\n",
       "25026 regex               9212\n",
       "1853  asp.net-mvc         9096\n",
       "33405 windows-7           8966\n",
       "34111 xcode               8340\n",
       "7819  django              8215\n",
       "21561 osx                 8073\n",
       "1766  arrays              7915\n",
       "32171 vb.net              7304\n",
       "9818  facebook            6965\n",
       "15611 json                6935\n",
       "8728  eclipse             6916\n",
       "25971 ruby-on-rails-3     6834\n",
       "31296 ubuntu              6433\n",
       "22311 performance         6243\n",
       "28919 string              5949\n",
       "19857 networking          5905\n",
       "19287 multithreading      5904\n",
       "33594 winforms            5839\n",
       "1856  asp.net-mvc-3       5476\n",
       "32562 visual-studio-2010  5456\n",
       "26585 security            5369\n",
       "2604  bash                5092\n",
       "13753 image               5034"
      ]
     },
     "metadata": {},
     "output_type": "display_data"
    },
    {
     "data": {
      "text/html": [
       "<table>\n",
       "<thead><tr><th></th><th scope=col>Var1</th><th scope=col>Freq</th></tr></thead>\n",
       "<tbody>\n",
       "\t<tr><th scope=row>14951</th><td>java         </td><td>64770        </td></tr>\n",
       "\t<tr><th scope=row>22515</th><td>php          </td><td>61712        </td></tr>\n",
       "\t<tr><th scope=row>15025</th><td>javascript   </td><td>57722        </td></tr>\n",
       "\t<tr><th scope=row>1010</th><td>android      </td><td>50630        </td></tr>\n",
       "\t<tr><th scope=row>15396</th><td>jquery       </td><td>48180        </td></tr>\n",
       "\t<tr><th scope=row>3609</th><td>c++          </td><td>31664        </td></tr>\n",
       "\t<tr><th scope=row>24032</th><td>python       </td><td>29141        </td></tr>\n",
       "\t<tr><th scope=row>14604</th><td>iphone       </td><td>28567        </td></tr>\n",
       "\t<tr><th scope=row>1834</th><td>asp.net      </td><td>27784        </td></tr>\n",
       "\t<tr><th scope=row>19398</th><td>mysql        </td><td>26999        </td></tr>\n",
       "\t<tr><th scope=row>13153</th><td>html         </td><td>25908        </td></tr>\n",
       "\t<tr><th scope=row>19</th><td>.net         </td><td>25583        </td></tr>\n",
       "\t<tr><th scope=row>14547</th><td>ios          </td><td>21480        </td></tr>\n",
       "\t<tr><th scope=row>20746</th><td>objective-c  </td><td>21024        </td></tr>\n",
       "\t<tr><th scope=row>28301</th><td>sql          </td><td>20891        </td></tr>\n",
       "\t<tr><th scope=row>6179</th><td>css          </td><td>20343        </td></tr>\n",
       "\t<tr><th scope=row>16712</th><td>linux        </td><td>19615        </td></tr>\n",
       "\t<tr><th scope=row>25969</th><td>ruby-on-rails</td><td>18560        </td></tr>\n",
       "\t<tr><th scope=row>33399</th><td>windows      </td><td>15094        </td></tr>\n",
       "\t<tr><th scope=row>28333</th><td>sql-server   </td><td>11889        </td></tr>\n",
       "\t<tr><th scope=row>25951</th><td>ruby         </td><td>11445        </td></tr>\n",
       "\t<tr><th scope=row>33883</th><td>wpf          </td><td>10243        </td></tr>\n",
       "\t<tr><th scope=row>34233</th><td>xml          </td><td>10095        </td></tr>\n",
       "</tbody>\n",
       "</table>\n"
      ],
      "text/latex": [
       "\\begin{tabular}{r|ll}\n",
       "  & Var1 & Freq\\\\\n",
       "\\hline\n",
       "\t14951 & java          & 64770        \\\\\n",
       "\t22515 & php           & 61712        \\\\\n",
       "\t15025 & javascript    & 57722        \\\\\n",
       "\t1010 & android       & 50630        \\\\\n",
       "\t15396 & jquery        & 48180        \\\\\n",
       "\t3609 & c++           & 31664        \\\\\n",
       "\t24032 & python        & 29141        \\\\\n",
       "\t14604 & iphone        & 28567        \\\\\n",
       "\t1834 & asp.net       & 27784        \\\\\n",
       "\t19398 & mysql         & 26999        \\\\\n",
       "\t13153 & html          & 25908        \\\\\n",
       "\t19 & .net          & 25583        \\\\\n",
       "\t14547 & ios           & 21480        \\\\\n",
       "\t20746 & objective-c   & 21024        \\\\\n",
       "\t28301 & sql           & 20891        \\\\\n",
       "\t6179 & css           & 20343        \\\\\n",
       "\t16712 & linux         & 19615        \\\\\n",
       "\t25969 & ruby-on-rails & 18560        \\\\\n",
       "\t33399 & windows       & 15094        \\\\\n",
       "\t28333 & sql-server    & 11889        \\\\\n",
       "\t25951 & ruby          & 11445        \\\\\n",
       "\t33883 & wpf           & 10243        \\\\\n",
       "\t34233 & xml           & 10095        \\\\\n",
       "\\end{tabular}\n"
      ],
      "text/markdown": [
       "\n",
       "| <!--/--> | Var1 | Freq | \n",
       "|---|---|---|---|---|---|---|---|---|---|---|---|---|---|---|---|---|---|---|---|---|---|---|\n",
       "| 14951 | java          | 64770         | \n",
       "| 22515 | php           | 61712         | \n",
       "| 15025 | javascript    | 57722         | \n",
       "| 1010 | android       | 50630         | \n",
       "| 15396 | jquery        | 48180         | \n",
       "| 3609 | c++           | 31664         | \n",
       "| 24032 | python        | 29141         | \n",
       "| 14604 | iphone        | 28567         | \n",
       "| 1834 | asp.net       | 27784         | \n",
       "| 19398 | mysql         | 26999         | \n",
       "| 13153 | html          | 25908         | \n",
       "| 19 | .net          | 25583         | \n",
       "| 14547 | ios           | 21480         | \n",
       "| 20746 | objective-c   | 21024         | \n",
       "| 28301 | sql           | 20891         | \n",
       "| 6179 | css           | 20343         | \n",
       "| 16712 | linux         | 19615         | \n",
       "| 25969 | ruby-on-rails | 18560         | \n",
       "| 33399 | windows       | 15094         | \n",
       "| 28333 | sql-server    | 11889         | \n",
       "| 25951 | ruby          | 11445         | \n",
       "| 33883 | wpf           | 10243         | \n",
       "| 34233 | xml           | 10095         | \n",
       "\n",
       "\n"
      ],
      "text/plain": [
       "      Var1          Freq \n",
       "14951 java          64770\n",
       "22515 php           61712\n",
       "15025 javascript    57722\n",
       "1010  android       50630\n",
       "15396 jquery        48180\n",
       "3609  c++           31664\n",
       "24032 python        29141\n",
       "14604 iphone        28567\n",
       "1834  asp.net       27784\n",
       "19398 mysql         26999\n",
       "13153 html          25908\n",
       "19    .net          25583\n",
       "14547 ios           21480\n",
       "20746 objective-c   21024\n",
       "28301 sql           20891\n",
       "6179  css           20343\n",
       "16712 linux         19615\n",
       "25969 ruby-on-rails 18560\n",
       "33399 windows       15094\n",
       "28333 sql-server    11889\n",
       "25951 ruby          11445\n",
       "33883 wpf           10243\n",
       "34233 xml           10095"
      ]
     },
     "metadata": {},
     "output_type": "display_data"
    },
    {
     "data": {
      "text/html": [
       "<ol class=list-inline>\n",
       "\t<li>48</li>\n",
       "\t<li>2</li>\n",
       "</ol>\n"
      ],
      "text/latex": [
       "\\begin{enumerate*}\n",
       "\\item 48\n",
       "\\item 2\n",
       "\\end{enumerate*}\n"
      ],
      "text/markdown": [
       "1. 48\n",
       "2. 2\n",
       "\n",
       "\n"
      ],
      "text/plain": [
       "[1] 48  2"
      ]
     },
     "metadata": {},
     "output_type": "display_data"
    },
    {
     "data": {
      "text/html": [
       "<ol class=list-inline>\n",
       "\t<li>23</li>\n",
       "\t<li>2</li>\n",
       "</ol>\n"
      ],
      "text/latex": [
       "\\begin{enumerate*}\n",
       "\\item 23\n",
       "\\item 2\n",
       "\\end{enumerate*}\n"
      ],
      "text/markdown": [
       "1. 23\n",
       "2. 2\n",
       "\n",
       "\n"
      ],
      "text/plain": [
       "[1] 23  2"
      ]
     },
     "metadata": {},
     "output_type": "display_data"
    }
   ],
   "source": [
    "  # Store tags greater than 10K in one list\n",
    "\n",
    "(fq_5k<-fq_t[fq_t$Freq >5000,])\n",
    "(fq_10k<-fq_t[fq_t$Freq >10000,])\n",
    "\n",
    "dim(fq_5k)\n",
    "dim(fq_10k)"
   ]
  },
  {
   "cell_type": "markdown",
   "metadata": {},
   "source": [
    "# Tags Per Question"
   ]
  },
  {
   "cell_type": "code",
   "execution_count": 20,
   "metadata": {},
   "outputs": [
    {
     "name": "stdout",
     "output_type": "stream",
     "text": [
      "[1] \"Maximum number of tags per question: 5\"\n",
      "[1] \"Minimum number of tags per question: 1\"\n",
      "[1] \"Avg. number of tags per question: 2.88777869861867\"\n"
     ]
    }
   ],
   "source": [
    "#Observations:\n",
    "#   \n",
    "# There are total 34 tags which are used more than 5000 times.\n",
    "# 19 tags are used more than 10000 times.\n",
    "# Most frequent tag (i.e. c) is used 77161 times.\n",
    "# Since some tags occur much more frequently than others ,\n",
    "# Micro-averaged F1-Score is the appropriate metrix for this problem\n",
    "\n",
    "\n",
    "tags_per_ques<-unlist(lapply(df$Tags,function(x) wordcount(x, sep = \" \", count.function = sum)))\n",
    "\n",
    "\n",
    "print(paste(\"Maximum number of tags per question:\", max(tags_per_ques)))\n",
    "print(paste(\"Minimum number of tags per question:\",min(tags_per_ques)))\n",
    "print(paste(\"Avg. number of tags per question:\",((sum(tags_per_ques)*1.0)/length(tags_per_ques))))\n"
   ]
  },
  {
   "cell_type": "code",
   "execution_count": 23,
   "metadata": {},
   "outputs": [
    {
     "name": "stderr",
     "output_type": "stream",
     "text": [
      "`stat_bin()` using `bins = 30`. Pick better value with `binwidth`.\n"
     ]
    },
    {
     "data": {},
     "metadata": {},
     "output_type": "display_data"
    },
    {
     "data": {
      "image/png": "[encoded data removed]",
      "text/plain": [
       "plot without title"
      ]
     },
     "metadata": {},
     "output_type": "display_data"
    }
   ],
   "source": [
    "\n",
    "tags_per_ques<-data.frame(tags_per_ques)\n",
    "ggplot(tags_per_ques,aes(tags_per_ques))+\n",
    "  geom_histogram(alpha=0.9,fill=\"#00FFFF\")+ylab(\"Number of tags in the questions\")+xlab(\"Number of Tags\")\n",
    "\n"
   ]
  },
  {
   "cell_type": "markdown",
   "metadata": {},
   "source": [
    "\n",
    "Observations:\n",
    "  \n",
    "1. Maximum number of tags per question: 5\n",
    "2. Minimum number of tags per question: 1\n",
    "3. Avg. number of tags per question: 2.899\n",
    "4. Most of the questions are having 2 or 3 tags\n",
    "\n",
    "\n"
   ]
  },
  {
   "cell_type": "markdown",
   "metadata": {},
   "source": [
    "# Most Frequent Tags"
   ]
  },
  {
   "cell_type": "code",
   "execution_count": 37,
   "metadata": {},
   "outputs": [
    {
     "data": {
      "text/html": [
       "<iframe src=\"demo.html\"></iframe>"
      ]
     },
     "metadata": {},
     "output_type": "display_data"
    }
   ],
   "source": [
    "#install.packages('wordcloud2', repos='http://cran.us.r-project.org')\n",
    "library(IRdisplay)\n",
    "library(leaflet)\n",
    "library(htmlwidgets)\n",
    "\n",
    "ptbl<-wordcloud2::wordcloud2(fq_t,backgroundColor = \"black\",color='random-dark')\n",
    "\n",
    "saveWidget(ptbl, 'demo.html', selfcontained = FALSE)\n",
    "display_html('<iframe src=\"demo.html\"></iframe>')"
   ]
  },
  {
   "cell_type": "code",
   "execution_count": 25,
   "metadata": {},
   "outputs": [
    {
     "data": {
      "text/html": [
       "<table>\n",
       "<thead><tr><th></th><th scope=col>Var1</th><th scope=col>Freq</th></tr></thead>\n",
       "<tbody>\n",
       "\t<tr><th scope=row>14951</th><td>java         </td><td>64770        </td></tr>\n",
       "\t<tr><th scope=row>22515</th><td>php          </td><td>61712        </td></tr>\n",
       "\t<tr><th scope=row>15025</th><td>javascript   </td><td>57722        </td></tr>\n",
       "\t<tr><th scope=row>1010</th><td>android      </td><td>50630        </td></tr>\n",
       "\t<tr><th scope=row>15396</th><td>jquery       </td><td>48180        </td></tr>\n",
       "\t<tr><th scope=row>3609</th><td>c++          </td><td>31664        </td></tr>\n",
       "\t<tr><th scope=row>24032</th><td>python       </td><td>29141        </td></tr>\n",
       "\t<tr><th scope=row>14604</th><td>iphone       </td><td>28567        </td></tr>\n",
       "\t<tr><th scope=row>1834</th><td>asp.net      </td><td>27784        </td></tr>\n",
       "\t<tr><th scope=row>19398</th><td>mysql        </td><td>26999        </td></tr>\n",
       "\t<tr><th scope=row>13153</th><td>html         </td><td>25908        </td></tr>\n",
       "\t<tr><th scope=row>19</th><td>.net         </td><td>25583        </td></tr>\n",
       "\t<tr><th scope=row>14547</th><td>ios          </td><td>21480        </td></tr>\n",
       "\t<tr><th scope=row>20746</th><td>objective-c  </td><td>21024        </td></tr>\n",
       "\t<tr><th scope=row>28301</th><td>sql          </td><td>20891        </td></tr>\n",
       "\t<tr><th scope=row>6179</th><td>css          </td><td>20343        </td></tr>\n",
       "\t<tr><th scope=row>16712</th><td>linux        </td><td>19615        </td></tr>\n",
       "\t<tr><th scope=row>25969</th><td>ruby-on-rails</td><td>18560        </td></tr>\n",
       "\t<tr><th scope=row>33399</th><td>windows      </td><td>15094        </td></tr>\n",
       "\t<tr><th scope=row>28333</th><td>sql-server   </td><td>11889        </td></tr>\n",
       "</tbody>\n",
       "</table>\n"
      ],
      "text/latex": [
       "\\begin{tabular}{r|ll}\n",
       "  & Var1 & Freq\\\\\n",
       "\\hline\n",
       "\t14951 & java          & 64770        \\\\\n",
       "\t22515 & php           & 61712        \\\\\n",
       "\t15025 & javascript    & 57722        \\\\\n",
       "\t1010 & android       & 50630        \\\\\n",
       "\t15396 & jquery        & 48180        \\\\\n",
       "\t3609 & c++           & 31664        \\\\\n",
       "\t24032 & python        & 29141        \\\\\n",
       "\t14604 & iphone        & 28567        \\\\\n",
       "\t1834 & asp.net       & 27784        \\\\\n",
       "\t19398 & mysql         & 26999        \\\\\n",
       "\t13153 & html          & 25908        \\\\\n",
       "\t19 & .net          & 25583        \\\\\n",
       "\t14547 & ios           & 21480        \\\\\n",
       "\t20746 & objective-c   & 21024        \\\\\n",
       "\t28301 & sql           & 20891        \\\\\n",
       "\t6179 & css           & 20343        \\\\\n",
       "\t16712 & linux         & 19615        \\\\\n",
       "\t25969 & ruby-on-rails & 18560        \\\\\n",
       "\t33399 & windows       & 15094        \\\\\n",
       "\t28333 & sql-server    & 11889        \\\\\n",
       "\\end{tabular}\n"
      ],
      "text/markdown": [
       "\n",
       "| <!--/--> | Var1 | Freq | \n",
       "|---|---|---|---|---|---|---|---|---|---|---|---|---|---|---|---|---|---|---|---|\n",
       "| 14951 | java          | 64770         | \n",
       "| 22515 | php           | 61712         | \n",
       "| 15025 | javascript    | 57722         | \n",
       "| 1010 | android       | 50630         | \n",
       "| 15396 | jquery        | 48180         | \n",
       "| 3609 | c++           | 31664         | \n",
       "| 24032 | python        | 29141         | \n",
       "| 14604 | iphone        | 28567         | \n",
       "| 1834 | asp.net       | 27784         | \n",
       "| 19398 | mysql         | 26999         | \n",
       "| 13153 | html          | 25908         | \n",
       "| 19 | .net          | 25583         | \n",
       "| 14547 | ios           | 21480         | \n",
       "| 20746 | objective-c   | 21024         | \n",
       "| 28301 | sql           | 20891         | \n",
       "| 6179 | css           | 20343         | \n",
       "| 16712 | linux         | 19615         | \n",
       "| 25969 | ruby-on-rails | 18560         | \n",
       "| 33399 | windows       | 15094         | \n",
       "| 28333 | sql-server    | 11889         | \n",
       "\n",
       "\n"
      ],
      "text/plain": [
       "      Var1          Freq \n",
       "14951 java          64770\n",
       "22515 php           61712\n",
       "15025 javascript    57722\n",
       "1010  android       50630\n",
       "15396 jquery        48180\n",
       "3609  c++           31664\n",
       "24032 python        29141\n",
       "14604 iphone        28567\n",
       "1834  asp.net       27784\n",
       "19398 mysql         26999\n",
       "13153 html          25908\n",
       "19    .net          25583\n",
       "14547 ios           21480\n",
       "20746 objective-c   21024\n",
       "28301 sql           20891\n",
       "6179  css           20343\n",
       "16712 linux         19615\n",
       "25969 ruby-on-rails 18560\n",
       "33399 windows       15094\n",
       "28333 sql-server    11889"
      ]
     },
     "metadata": {},
     "output_type": "display_data"
    }
   ],
   "source": [
    "fq_t1<-fq_t[1:20,]\n",
    "fq_t1"
   ]
  },
  {
   "cell_type": "code",
   "execution_count": 27,
   "metadata": {
    "scrolled": true
   },
   "outputs": [
    {
     "data": {},
     "metadata": {},
     "output_type": "display_data"
    },
    {
     "data": {
      "image/png": "[encoded data removed]",
      "text/plain": [
       "plot without title"
      ]
     },
     "metadata": {},
     "output_type": "display_data"
    }
   ],
   "source": [
    "\n",
    "#Observations:\n",
    "#A look at the word cloud shows that \"c#\", \"java\", \"php\", \"asp.net\", \"javascript\", \"c++\" are some of the most frequent tags.\n",
    "\n",
    "\n",
    "fq_t1%>%\n",
    "  ggplot() +\n",
    "  geom_col(aes(Var1,Freq),fill=\"#00FFFF\") +\n",
    "  theme(legend.position = \"none\", \n",
    "        plot.title = element_text(hjust = 0.5),\n",
    "        panel.grid.major = element_blank()) +\n",
    "  xlab(\"Tags\") + \n",
    "  ylab(\"Counts\") +\n",
    "  ggtitle(\"Frequency of top 20 tags\") +\n",
    "  coord_flip()+\n",
    "  theme(   \n",
    "    plot.background = element_rect(),    # Background of the entire plot\n",
    "    \n",
    "    panel.background = element_rect(\"navy\"))\n",
    "\n"
   ]
  },
  {
   "cell_type": "markdown",
   "metadata": {},
   "source": [
    "\n",
    "\n",
    "\n",
    "Observations:\n",
    "  \n",
    "Majority of the most frequent tags are programming language.\n",
    "java is the top most frequent programming language.\n",
    "Android,Php, javascript and jquery are among the top most frequent used languages.\n",
    "\n",
    "\n"
   ]
  },
  {
   "cell_type": "markdown",
   "metadata": {},
   "source": [
    "# Cleaning and preprocessing of Questions"
   ]
  },
  {
   "cell_type": "markdown",
   "metadata": {},
   "source": [
    "\n",
    "Preprocessing\n",
    "1. Sample 1M data points\n",
    "2. Separate Code from Body\n",
    "3. Remove Spcial characters from Question title and description (not in code)\n",
    "4. Remove stop words (Except 'C')\n",
    "5. Remove HTML Tags\n",
    "6. Convert all the characters into small letters\n",
    "7. Use SnowballStemmer to stem the words\n"
   ]
  },
  {
   "cell_type": "code",
   "execution_count": 81,
   "metadata": {},
   "outputs": [],
   "source": [
    "\n",
    "\n",
    "\n",
    "df_clean <- function(x){ \n",
    "  x<- replace_abbreviation(x) \n",
    "  x<- replace_ordinal(x) \n",
    "  x<- replace_symbol(x) \n",
    "  x<-tolower(x)\n",
    "  x = gsub(\"[[:punct:]]\", \" \", x)\n",
    "  # remove numbers\n",
    "  x = gsub(\"[[:digit:]]\", \"\", x)\n",
    "  # remove html links\n",
    "  x = gsub(\"http\\\\w+\", \"\", x)\n",
    "  x<-stripWhitespace(x) \n",
    "  x<-removeWords(x,c(stopwords(\"en\")))\n",
    "  \n",
    "  \n",
    "  x<-stem_snowball(x, algorithm = \"en\")\n",
    "  x<-gsub(\"<.*?>\", \"\", x)\n",
    "  x<- str_trim(x,side=c(\"both\",\"left\",\"right\"))\n",
    "  x<-stem_snowball(x, algorithm = \"en\")\n",
    "  #x<-corpus::text_tokens(x,stemmer=\"en\")\n",
    "  #x<- tm:re,replace_number(x) \n",
    "  return(x) \n",
    "} \n",
    " \n",
    "\n",
    "   \n",
    "\n",
    "remove_single_char<-function(x){\n",
    "  for(i in 1:length(x)){\n",
    "    for(j in 1:length(unlist(x[[i]]))){\n",
    "      if(nchar(unlist(x[[i]][j]))==1 && unlist(x[[i]][j])!=\"c\" && unlist(x[[i]][j])!=\"r\" ){\n",
    "        x[[i]][j]= \" \"\n",
    "      }\n",
    "    }\n",
    "  }\n",
    "  return(x)\n",
    "}\n",
    "  \n",
    "\n",
    "\n",
    "\n",
    "df_title<- df$Title\n",
    "\n",
    "\n",
    "df_title<-df_clean(df_title)\n",
    "df_title<-remove_single_char(df_title)\n",
    "\n",
    "\n",
    "\n",
    "dfa<-data.frame(question=unlist(df_title))\n",
    "#head(dfa)\n",
    "dfa<-cbind(dfa,Tags=df$Tags)\n",
    "dfa<-as.data.frame(dfa)\n",
    "write.csv(dfa,\"preproc_dfa.csv\")"
   ]
  },
  {
   "cell_type": "code",
   "execution_count": 83,
   "metadata": {},
   "outputs": [
    {
     "data": {
      "text/html": [
       "<table>\n",
       "<thead><tr><th scope=col>question</th><th scope=col>Tags</th></tr></thead>\n",
       "<tbody>\n",
       "\t<tr><td>check   uploaded file   image without mime type   </td><td>php image-processing file-upload upload mime-types</td></tr>\n",
       "\t<tr><td>can  prevent firefox  closing   press ctrl w      </td><td>firefox                                           </td></tr>\n",
       "\t<tr><td>r error invalid type list  variable               </td><td>r matlab machine-learning                         </td></tr>\n",
       "\t<tr><td>replace special characters   url                  </td><td>c# url encoding                                   </td></tr>\n",
       "\t<tr><td>modify whois contact details                      </td><td>php api file-get-contents                         </td></tr>\n",
       "\t<tr><td>setting proxy  active directory environment       </td><td>proxy active-directory jmeter                     </td></tr>\n",
       "</tbody>\n",
       "</table>\n"
      ],
      "text/latex": [
       "\\begin{tabular}{r|ll}\n",
       " question & Tags\\\\\n",
       "\\hline\n",
       "\t check   uploaded file   image without mime type    & php image-processing file-upload upload mime-types\\\\\n",
       "\t can  prevent firefox  closing   press ctrl w       & firefox                                           \\\\\n",
       "\t r error invalid type list  variable                & r matlab machine-learning                         \\\\\n",
       "\t replace special characters   url                     & c\\# url encoding                                   \\\\\n",
       "\t modify whois contact details                       & php api file-get-contents                         \\\\\n",
       "\t setting proxy  active directory environment        & proxy active-directory jmeter                     \\\\\n",
       "\\end{tabular}\n"
      ],
      "text/markdown": [
       "\n",
       "question | Tags | \n",
       "|---|---|---|---|---|---|\n",
       "| check   uploaded file   image without mime type    | php image-processing file-upload upload mime-types | \n",
       "| can  prevent firefox  closing   press ctrl w       | firefox                                            | \n",
       "| r error invalid type list  variable                | r matlab machine-learning                          | \n",
       "| replace special characters   url                   | c# url encoding                                    | \n",
       "| modify whois contact details                       | php api file-get-contents                          | \n",
       "| setting proxy  active directory environment        | proxy active-directory jmeter                      | \n",
       "\n",
       "\n"
      ],
      "text/plain": [
       "  question                                       \n",
       "1 check   uploaded file   image without mime type\n",
       "2 can  prevent firefox  closing   press ctrl w   \n",
       "3 r error invalid type list  variable            \n",
       "4 replace special characters   url               \n",
       "5 modify whois contact details                   \n",
       "6 setting proxy  active directory environment    \n",
       "  Tags                                              \n",
       "1 php image-processing file-upload upload mime-types\n",
       "2 firefox                                           \n",
       "3 r matlab machine-learning                         \n",
       "4 c# url encoding                                   \n",
       "5 php api file-get-contents                         \n",
       "6 proxy active-directory jmeter                     "
      ]
     },
     "metadata": {},
     "output_type": "display_data"
    }
   ],
   "source": [
    "head(dfa)\n"
   ]
  }
 ],
 "metadata": {
  "kernelspec": {
   "display_name": "R",
   "language": "R",
   "name": "ir"
  },
  "language_info": {
   "codemirror_mode": "r",
   "file_extension": ".r",
   "mimetype": "text/x-r-source",
   "name": "R",
   "pygments_lexer": "r",
   "version": "3.5.1"
  }
 },
 "nbformat": 4,
 "nbformat_minor": 2
}
